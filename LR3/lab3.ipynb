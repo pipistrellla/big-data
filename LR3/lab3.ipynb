{
 "cells": [
  {
   "cell_type": "code",
   "execution_count": 1,
   "id": "41a838f0-6cf9-4f7e-a9d3-4635cc4fe028",
   "metadata": {},
   "outputs": [],
   "source": [
    "import matplotlib.pyplot as plt\n",
    "import psycopg2\n",
    "import random\n",
    "import time"
   ]
  },
  {
   "cell_type": "code",
   "execution_count": 2,
   "id": "f5a65d65-aa3d-43cf-be0f-8e987ad60af1",
   "metadata": {},
   "outputs": [],
   "source": [
    "# Параметры подключения к базам данных\n",
    "PRIMARY_DB = {\n",
    "    'dbname': 'postgres',\n",
    "    'user': 'postgres',\n",
    "    'password': 'postgres',\n",
    "    'host': 'localhost',\n",
    "    'port': '5433'\n",
    "}\n",
    "\n",
    "STANDBY_DB = {\n",
    "    'dbname': 'postgres',\n",
    "    'user': 'postgres',\n",
    "    'password': 'postgres',\n",
    "    'host': 'localhost',\n",
    "    'port': '5434'\n",
    "}"
   ]
  },
  {
   "cell_type": "code",
   "execution_count": 3,
   "id": "9a907892-f9fb-47e1-abc9-3e93528aedf3",
   "metadata": {},
   "outputs": [],
   "source": [
    "# Класс который будет отчлежиывть уоллияетыо записе в БД и строить график этого колличетва\n",
    "class Logger:\n",
    "    def __init__(self):\n",
    "        self.timestamps = []\n",
    "        self.primary_record_count = []\n",
    "        self.standby_record_count = []\n",
    "\n",
    "    # получить количество записей в БД\n",
    "    def get_db_record_count(self, db_config):\n",
    "        try:\n",
    "            with psycopg2.connect(**db_config) as conn:\n",
    "                with conn.cursor() as cur:\n",
    "                    cur.execute(\"SELECT COUNT(*) FROM BerPol\")\n",
    "                    count = cur.fetchone()[0]\n",
    "            return count\n",
    "        except Exception as e:\n",
    "            return -1\n",
    "    \n",
    "    # Сохрняет колличество записей из бд\n",
    "    def log(self):\n",
    "        self.timestamps.append(time.time())\n",
    "        self.primary_record_count.append(self.get_db_record_count(PRIMARY_DB))\n",
    "        self.standby_record_count.append(self.get_db_record_count(STANDBY_DB))\n",
    "\n",
    "    # Построить график количества записей от времени\n",
    "    def plot(self):\n",
    "        times = [t - self.timestamps[0] for t in self.timestamps]\n",
    "        print(f'количество записей в primary {max(self.primary_record_count)}/{len(times)}')\n",
    "        print(f'количество записей в standby {max(self.standby_record_count)}/{len(times)}')\n",
    "        plt.plot(times, self.primary_record_count, label='primary', marker='o')\n",
    "        plt.plot(times, self.standby_record_count, label='standby')\n",
    "        plt.legend()\n",
    "        plt.xlabel(\"Время\")\n",
    "        plt.ylabel(\"Количество записей в БД\") \n",
    "        plt.show()"
   ]
  },
  {
   "cell_type": "code",
   "execution_count": 4,
   "id": "82ac5c29-1ed5-4eaf-b50c-08445c6ecda8",
   "metadata": {},
   "outputs": [],
   "source": [
    "# класс для переключения на резервную БД\n",
    "class Proxy:\n",
    "    def __init__(self):\n",
    "        self.is_primary_alive = True\n",
    "\n",
    "    # Выполнить promote в БД\n",
    "    def promote(self, db_config):\n",
    "        with psycopg2.connect(**db_config) as conn:\n",
    "            with conn.cursor() as cur:\n",
    "                cur.execute(\"SELECT pg_promote()\")\n",
    "                conn.commit()\n",
    "\n",
    "    # Поместить данные в БД\n",
    "    def raw_insert(self, db_config, value):\n",
    "        try:\n",
    "            with psycopg2.connect(**db_config) as conn:\n",
    "                with conn.cursor() as cur:\n",
    "                    cur.execute(\"INSERT INTO BerPol (name, surname) VALUES (%s, %s)\", (value[0],value[1]))\n",
    "                    conn.commit()\n",
    "            return True\n",
    "        except Exception as e:\n",
    "            print(f\"Ошибка при вставке данных: {e}\")  # Логируем ошибку\n",
    "            return False\n",
    "        \n",
    "    # Поместить данные в \"живую\" БД\n",
    "    def insert(self, value):\n",
    "        if self.is_primary_alive:\n",
    "            if not self.raw_insert(PRIMARY_DB, value):\n",
    "                self.is_primary_alive = False\n",
    "                self.promote(STANDBY_DB)       \n",
    "        if not self.is_primary_alive:\n",
    "            self.raw_insert(STANDBY_DB, value)\n",
    "\n",
    "\n",
    "    def show_bd_data(self):\n",
    "        with psycopg2.connect(**db_config) as conn:\n",
    "            with conn.cursor() as cur:\n",
    "                cur.execute(\"SELECT * from BerPol\")\n",
    "                conn.commit()"
   ]
  },
  {
   "cell_type": "code",
   "execution_count": 5,
   "id": "ca9e2425-2d2c-4b3b-8a3c-0a69a2f548dd",
   "metadata": {},
   "outputs": [],
   "source": [
    "# Пданные для записи в бд\n",
    "# Будем генерировать случайного человека с именем и фамилией\n",
    "def get_value():\n",
    "    names = ['Векс','Каори','Декс','Никс', 'Егор', 'Алексей']\n",
    "    surnames = ['Береснев','Половников','Арасака','Сантьяго', 'Кусанаги' , 'Рэйт']\n",
    "    random_name = random.choice(names)\n",
    "    random_surname = random.choice(surnames)\n",
    "    return [random_name, random_surname]\n",
    "\n",
    "# Создать таблицу с тестовыми данными\n",
    "def init_table(db_config):\n",
    "    try:\n",
    "        with psycopg2.connect(**db_config) as conn:\n",
    "            with conn.cursor() as cur:\n",
    "                cur.execute(\"CREATE TABLE BerPol (id SERIAL, name TEXT, surname Text);\")\n",
    "    except Exception as e:\n",
    "        with psycopg2.connect(**db_config) as conn:\n",
    "            with conn.cursor() as cur:\n",
    "                cur.execute(\"DELETE FROM BerPol;\")"
   ]
  },
  {
   "cell_type": "code",
   "execution_count": 6,
   "id": "362f2d4f-5407-4fd6-91fa-46b44b41ef17",
   "metadata": {},
   "outputs": [
    {
     "name": "stdout",
     "output_type": "stream",
     "text": [
      "Ошибка при вставке данных: connection to server at \"localhost\" (127.0.0.1), port 5433 failed: FATAL:  the database system is shutting down\n",
      "\n",
      "количество записей в primary 153/1000\n",
      "количество записей в standby 1000/1000\n"
     ]
    },
    {
     "data": {
      "image/png": "[encoded data removed]",
      "text/plain": [
       "<Figure size 640x480 with 1 Axes>"
      ]
     },
     "metadata": {},
     "output_type": "display_data"
    }
   ],
   "source": [
    "proxy = Proxy()\n",
    "logger = Logger()\n",
    "init_table(PRIMARY_DB)\n",
    "\n",
    "\n",
    "\n",
    "for _ in range(1000):\n",
    "    proxy.insert(get_value())\n",
    "    logger.log()\n",
    "    \n",
    "logger.plot()"
   ]
  },
  {
   "cell_type": "code",
   "execution_count": null,
   "id": "1b9e25ed-c813-46d9-9541-6ee8441f0a26",
   "metadata": {},
   "outputs": [],
   "source": []
  }
 ],
 "metadata": {
  "kernelspec": {
   "display_name": "Python 3 (ipykernel)",
   "language": "python",
   "name": "python3"
  },
  "language_info": {
   "codemirror_mode": {
    "name": "ipython",
    "version": 3
   },
   "file_extension": ".py",
   "mimetype": "text/x-python",
   "name": "python",
   "nbconvert_exporter": "python",
   "pygments_lexer": "ipython3",
   "version": "3.12.3"
  }
 },
 "nbformat": 4,
 "nbformat_minor": 5
}
